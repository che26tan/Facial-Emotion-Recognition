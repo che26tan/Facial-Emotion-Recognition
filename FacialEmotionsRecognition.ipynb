{
 "cells": [
  {
   "cell_type": "code",
   "execution_count": null,
   "outputs": [],
   "source": [
    "# !git clone https://github.com/muxspace/facial_expressions.git"
   ],
   "metadata": {
    "collapsed": false
   }
  },
  {
   "cell_type": "code",
   "execution_count": 1,
   "outputs": [],
   "source": [
    "import csv\n",
    "import os\n",
    "from shutil import copyfile\n",
    "import tensorflow as tf\n",
    "\n",
    "from keras.preprocessing.image import ImageDataGenerator\n",
    "# from keras.preprocessing.image import load_img\n",
    "from keras.optimizers import Adam\n",
    "from keras.callbacks import EarlyStopping\n",
    "from keras.layers import Conv2D, MaxPool2D, Dense, Flatten, Dropout"
   ],
   "metadata": {
    "collapsed": false,
    "ExecuteTime": {
     "end_time": "2023-11-30T14:45:55.015920300Z",
     "start_time": "2023-11-30T14:45:51.700199700Z"
    }
   }
  },
  {
   "cell_type": "code",
   "execution_count": 2,
   "outputs": [],
   "source": [
    "data = {}\n",
    "with open(r'C:\\Users\\che26\\OneDrive\\Programming\\Python\\Codes\\5. DEEP LEARNING\\Projects\\3. Project Facial Emotions Recognition\\data\\legend.csv') as f:\n",
    "    reader = csv.reader(f)\n",
    "    next(reader)\n",
    "    for row in reader:\n",
    "        key = row[2].lower()\n",
    "        if key in data:\n",
    "            data[key].append(row[1])\n",
    "        else:\n",
    "            data[key] = [row[1]]"
   ],
   "metadata": {
    "collapsed": false,
    "ExecuteTime": {
     "end_time": "2023-11-30T14:45:57.812276700Z",
     "start_time": "2023-11-30T14:45:57.792218300Z"
    }
   }
  },
  {
   "cell_type": "code",
   "execution_count": 3,
   "outputs": [
    {
     "ename": "FileExistsError",
     "evalue": "[WinError 183] Cannot create a file when that file already exists: './master_data'",
     "output_type": "error",
     "traceback": [
      "\u001B[1;31m---------------------------------------------------------------------------\u001B[0m",
      "\u001B[1;31mFileExistsError\u001B[0m                           Traceback (most recent call last)",
      "Cell \u001B[1;32mIn[3], line 3\u001B[0m\n\u001B[0;32m      1\u001B[0m emotion_list \u001B[38;5;241m=\u001B[39m \u001B[38;5;28mlist\u001B[39m(data\u001B[38;5;241m.\u001B[39mkeys())\n\u001B[1;32m----> 3\u001B[0m \u001B[43mos\u001B[49m\u001B[38;5;241;43m.\u001B[39;49m\u001B[43mmkdir\u001B[49m\u001B[43m(\u001B[49m\u001B[38;5;124;43m'\u001B[39;49m\u001B[38;5;124;43m./master_data\u001B[39;49m\u001B[38;5;124;43m'\u001B[39;49m\u001B[43m)\u001B[49m\n\u001B[0;32m      4\u001B[0m os\u001B[38;5;241m.\u001B[39mmkdir(\u001B[38;5;124m'\u001B[39m\u001B[38;5;124m./master_data/training\u001B[39m\u001B[38;5;124m'\u001B[39m)\n\u001B[0;32m      5\u001B[0m os\u001B[38;5;241m.\u001B[39mmkdir(\u001B[38;5;124m'\u001B[39m\u001B[38;5;124m./master_data/testing\u001B[39m\u001B[38;5;124m'\u001B[39m)\n",
      "\u001B[1;31mFileExistsError\u001B[0m: [WinError 183] Cannot create a file when that file already exists: './master_data'"
     ]
    }
   ],
   "source": [
    "emotion_list = list(data.keys())\n",
    "\n",
    "os.mkdir('./master_data')\n",
    "os.mkdir('./master_data/training')\n",
    "os.mkdir('./master_data/testing')\n",
    "\n",
    "for emotion in emotion_list:\n",
    "    os.mkdir(os.path.join('./master_data/training', emotion))\n",
    "    os.mkdir(os.path.join('./master_data/testing', emotion))\n",
    "\n",
    "split_size = 0.8\n",
    "for emotion, images in data.items():\n",
    "    train_size = int(split_size * len(images))\n",
    "    train_images = images[:train_size]\n",
    "    test_images = images[train_size:]\n",
    "    for image in train_images:\n",
    "        source = (os.path.join('./images', image))\n",
    "        dest = os.path.join('./master_data/training',emotion, image)\n",
    "        copyfile(source, dest)\n",
    "    for image in test_images:\n",
    "        source = os.path.join('./images', image)\n",
    "        dest = os.path.join('./master_data/testing',emotion, image)\n",
    "        copyfile(source, dest)"
   ],
   "metadata": {
    "collapsed": false,
    "ExecuteTime": {
     "end_time": "2023-11-30T14:45:59.748302400Z",
     "start_time": "2023-11-30T14:45:58.541735400Z"
    }
   }
  },
  {
   "cell_type": "code",
   "execution_count": 4,
   "outputs": [
    {
     "data": {
      "text/plain": "['anger',\n 'surprise',\n 'disgust',\n 'fear',\n 'neutral',\n 'happiness',\n 'sadness',\n 'contempt']"
     },
     "execution_count": 4,
     "metadata": {},
     "output_type": "execute_result"
    }
   ],
   "source": [
    "emotion_list"
   ],
   "metadata": {
    "collapsed": false,
    "ExecuteTime": {
     "end_time": "2023-11-30T14:46:00.987240700Z",
     "start_time": "2023-11-30T14:46:00.962914200Z"
    }
   }
  },
  {
   "cell_type": "code",
   "execution_count": 5,
   "outputs": [
    {
     "name": "stdout",
     "output_type": "stream",
     "text": [
      "Model: \"sequential\"\n",
      "_________________________________________________________________\n",
      " Layer (type)                Output Shape              Param #   \n",
      "=================================================================\n",
      " conv2d (Conv2D)             (None, 26, 26, 6)         60        \n",
      "                                                                 \n",
      " max_pooling2d (MaxPooling2  (None, 13, 13, 6)         0         \n",
      " D)                                                              \n",
      "                                                                 \n",
      " conv2d_1 (Conv2D)           (None, 11, 11, 16)        880       \n",
      "                                                                 \n",
      " max_pooling2d_1 (MaxPoolin  (None, 5, 5, 16)          0         \n",
      " g2D)                                                            \n",
      "                                                                 \n",
      " flatten (Flatten)           (None, 400)               0         \n",
      "                                                                 \n",
      " dropout (Dropout)           (None, 400)               0         \n",
      "                                                                 \n",
      " dense (Dense)               (None, 200)               80200     \n",
      "                                                                 \n",
      " dense_1 (Dense)             (None, 64)                12864     \n",
      "                                                                 \n",
      " dense_2 (Dense)             (None, 8)                 520       \n",
      "                                                                 \n",
      "=================================================================\n",
      "Total params: 94524 (369.23 KB)\n",
      "Trainable params: 94524 (369.23 KB)\n",
      "Non-trainable params: 0 (0.00 Byte)\n",
      "_________________________________________________________________\n"
     ]
    }
   ],
   "source": [
    "model = tf.keras.models.Sequential([\n",
    "    Conv2D(6, (3,3), activation = 'relu', input_shape = (28, 28, 1)),\n",
    "    MaxPool2D(2, 2),\n",
    "    Conv2D(16, (3,3), activation = 'relu'),\n",
    "    MaxPool2D(2, 2),\n",
    "    Flatten(),\n",
    "    Dropout(0.5),\n",
    "    Dense(200, activation = 'relu'),\n",
    "    Dense(64, activation = 'relu'),\n",
    "    Dense(8, activation = 'softmax')\n",
    "])\n",
    "model.summary()"
   ],
   "metadata": {
    "collapsed": false,
    "ExecuteTime": {
     "end_time": "2023-11-30T14:46:02.238704700Z",
     "start_time": "2023-11-30T14:46:02.059448600Z"
    }
   }
  },
  {
   "cell_type": "code",
   "execution_count": 6,
   "outputs": [],
   "source": [
    "model.compile( optimizer= Adam(learning_rate = 0.0001), loss = \"categorical_crossentropy\", metrics='accuracy')\n"
   ],
   "metadata": {
    "collapsed": false,
    "ExecuteTime": {
     "end_time": "2023-11-30T14:46:07.893809600Z",
     "start_time": "2023-11-30T14:46:07.866431500Z"
    }
   }
  },
  {
   "cell_type": "code",
   "execution_count": 7,
   "outputs": [
    {
     "name": "stdout",
     "output_type": "stream",
     "text": [
      "Found 10941 images belonging to 8 classes.\n",
      "Found 2742 images belonging to 8 classes.\n"
     ]
    }
   ],
   "source": [
    "train_dir = r'C:\\Users\\che26\\OneDrive\\Programming\\Python\\Codes\\5. DEEP LEARNING\\Projects\\3. Project Facial Emotions Recognition\\master_data\\training'\n",
    "test_dir = r'C:\\Users\\che26\\OneDrive\\Programming\\Python\\Codes\\5. DEEP LEARNING\\Projects\\3. Project Facial Emotions Recognition\\master_data\\testing'\n",
    "\n",
    "train_datagen = ImageDataGenerator(rescale = 1.0/255)\n",
    "train_generator = train_datagen.flow_from_directory(\n",
    "                    train_dir,\n",
    "                    target_size = (28, 28),\n",
    "                    class_mode='categorical',\n",
    "                    batch_size=128,\n",
    "                    color_mode='grayscale'\n",
    ")\n",
    "\n",
    "test_datagen = ImageDataGenerator(rescale = 1.0/255)\n",
    "test_generator = test_datagen.flow_from_directory(\n",
    "                    test_dir,\n",
    "                    target_size = (28, 28),\n",
    "                    class_mode='categorical',\n",
    "                    batch_size=128,\n",
    "                    color_mode='grayscale'\n",
    ")"
   ],
   "metadata": {
    "collapsed": false,
    "ExecuteTime": {
     "end_time": "2023-11-30T14:46:09.550086Z",
     "start_time": "2023-11-30T14:46:09.052492400Z"
    }
   }
  },
  {
   "cell_type": "code",
   "execution_count": 8,
   "outputs": [],
   "source": [
    "es = EarlyStopping(\n",
    "                    monitor='loss',\n",
    "                    patience=2,\n",
    "                    min_delta=0.01\n",
    "                   )"
   ],
   "metadata": {
    "collapsed": false,
    "ExecuteTime": {
     "end_time": "2023-11-30T14:46:10.763886200Z",
     "start_time": "2023-11-30T14:46:10.740292600Z"
    }
   }
  },
  {
   "cell_type": "code",
   "execution_count": null,
   "outputs": [
    {
     "name": "stdout",
     "output_type": "stream",
     "text": [
      "Epoch 1/30\n",
      "15/86 [====>.........................] - ETA: 7s - loss: 2.0455 - accuracy: 0.2281"
     ]
    }
   ],
   "source": [
    "model.fit(train_generator, epochs = 30, verbose = 1, callbacks = [es])"
   ],
   "metadata": {
    "collapsed": false,
    "is_executing": true,
    "ExecuteTime": {
     "start_time": "2023-11-30T14:46:13.225725700Z"
    }
   }
  },
  {
   "cell_type": "code",
   "execution_count": 22,
   "outputs": [
    {
     "name": "stdout",
     "output_type": "stream",
     "text": [
      "28/28 [==============================] - 2s 72ms/step\n"
     ]
    }
   ],
   "source": [
    "predictions = model.predict(test_generator)"
   ],
   "metadata": {
    "collapsed": false,
    "ExecuteTime": {
     "end_time": "2023-11-30T14:41:36.104808700Z",
     "start_time": "2023-11-30T14:41:33.958026600Z"
    }
   }
  },
  {
   "cell_type": "code",
   "execution_count": 23,
   "outputs": [
    {
     "name": "stdout",
     "output_type": "stream",
     "text": [
      "[0.06951588 0.00455687 0.04023398 0.01112701 0.4965248  0.31007645\n",
      " 0.04797082 0.01999416]\n",
      "[0.0110061  0.00056708 0.45395863 0.00568382 0.03957714 0.19967413\n",
      " 0.27342173 0.01611141]\n",
      "[5.2200500e-02 6.5405254e-04 2.1804050e-03 1.0106991e-03 2.5604313e-02\n",
      " 8.2902694e-01 1.9169778e-02 7.0153281e-02]\n",
      "[0.00973679 0.00083963 0.00365636 0.00217653 0.19829406 0.68410546\n",
      " 0.02098562 0.08020546]\n"
     ]
    }
   ],
   "source": [
    "import numpy as np\n",
    "# prediction_value = []\n",
    "# for i in predictions:\n",
    "#     prediction_value.append(emotion_list[np.argmax(i)])\n",
    "# print(prediction_value)\n",
    "# print(len(prediction_value))\n",
    "print(predictions[0])\n",
    "print(predictions[1])\n",
    "print(predictions[2])\n",
    "print(predictions[3])"
   ],
   "metadata": {
    "collapsed": false,
    "ExecuteTime": {
     "end_time": "2023-11-30T14:41:44.076651900Z",
     "start_time": "2023-11-30T14:41:44.056367300Z"
    }
   }
  },
  {
   "cell_type": "code",
   "execution_count": null,
   "outputs": [],
   "source": [],
   "metadata": {
    "collapsed": false
   }
  }
 ],
 "metadata": {
  "kernelspec": {
   "display_name": "Python 3",
   "language": "python",
   "name": "python3"
  },
  "language_info": {
   "codemirror_mode": {
    "name": "ipython",
    "version": 2
   },
   "file_extension": ".py",
   "mimetype": "text/x-python",
   "name": "python",
   "nbconvert_exporter": "python",
   "pygments_lexer": "ipython2",
   "version": "2.7.6"
  }
 },
 "nbformat": 4,
 "nbformat_minor": 0
}
